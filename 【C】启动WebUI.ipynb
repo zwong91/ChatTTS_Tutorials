{
 "cells": [
  {
   "cell_type": "markdown",
   "id": "85070fc5-7bb8-4439-9f9b-cc2044ea37b3",
   "metadata": {},
   "source": [
    "# 启动WebUI\n",
    "\n",
    "sb 2024-6-12"
   ]
  },
  {
   "cell_type": "markdown",
   "id": "c83d4dcf-37b5-46a0-bda8-38db8ae83d6c",
   "metadata": {},
   "source": [
    "## 导入工具包"
   ]
  },
  {
   "cell_type": "code",
   "execution_count": 1,
   "id": "91d49e64-2e18-4d24-aa51-7c271b0f1724",
   "metadata": {},
   "outputs": [],
   "source": [
    "import os"
   ]
  },
  {
   "cell_type": "markdown",
   "id": "2b98b7e0-a363-4c2b-a2df-64554128bd5e",
   "metadata": {},
   "source": [
    "## 进入ChatTTS主目录"
   ]
  },
  {
   "cell_type": "code",
   "execution_count": 2,
   "id": "efe10618-bc86-4227-8fd2-1e5902ebc909",
   "metadata": {},
   "outputs": [],
   "source": [
    "os.chdir('ChatTTS')"
   ]
  },
  {
   "cell_type": "markdown",
   "id": "8db94d89-481c-41dd-aa2b-4979c6a20ccb",
   "metadata": {},
   "source": [
    "## 修改`ChatTTS/webui.py`文件\n",
    "\n",
    "将第61行修改为自己的默认语句\n",
    "\n",
    "将第107行加上`compile=False`参数\n",
    "```python\n",
    "chat.load_models('local', local_path=args.local_path, compile=False)\n",
    "```\n",
    "\n",
    "将第109行加上`share=True`参数\n",
    "```python\n",
    "demo.launch(server_name=args.server_name, server_port=args.server_port, inbrowser=True, share=True)\n",
    "```"
   ]
  },
  {
   "cell_type": "markdown",
   "id": "e329dd3e-0293-4ee3-ba1d-9855c96b8354",
   "metadata": {},
   "source": [
    "## 启动WebUI"
   ]
  },
  {
   "cell_type": "code",
   "execution_count": null,
   "id": "5227940f-7446-4b6a-94b4-945c9b8411a1",
   "metadata": {},
   "outputs": [
    {
     "name": "stdout",
     "output_type": "stream",
     "text": [
      "[+0000 20241114 06:22:29] [\u001b[33mWARN\u001b[0m]  WebUI  | funcs | no ffmpeg installed, use wav file output\n",
      "[+0000 20241114 06:22:29] [\u001b[37mINFO\u001b[0m]  WebUI  | webui | loading ChatTTS model...\n",
      "[+0000 20241114 06:22:29] [\u001b[37mINFO\u001b[0m] ChatTTS | dl | checking assets...\n",
      "[+0000 20241114 06:22:30] [\u001b[37mINFO\u001b[0m] ChatTTS | dl | all assets are already latest.\n",
      "[+0000 20241114 06:22:30] [\u001b[37mINFO\u001b[0m] ChatTTS | core | use device cuda:0\n",
      "[+0000 20241114 06:22:31] [\u001b[37mINFO\u001b[0m] ChatTTS | core | vocos loaded.\n",
      "[+0000 20241114 06:22:31] [\u001b[37mINFO\u001b[0m] ChatTTS | core | dvae loaded.\n",
      "[+0000 20241114 06:22:31] [\u001b[37mINFO\u001b[0m] ChatTTS | core | embed loaded.\n",
      "[+0000 20241114 06:22:32] [\u001b[37mINFO\u001b[0m] ChatTTS | core | gpt loaded.\n",
      "[+0000 20241114 06:22:32] [\u001b[37mINFO\u001b[0m] ChatTTS | core | speaker loaded.\n",
      "[+0000 20241114 06:22:32] [\u001b[37mINFO\u001b[0m] ChatTTS | core | decoder loaded.\n",
      "[+0000 20241114 06:22:32] [\u001b[37mINFO\u001b[0m] ChatTTS | core | tokenizer loaded.\n",
      " NeMo-text-processing :: INFO     :: Creating ClassifyFst grammars.\n",
      "2024-11-14 06:22:53,475 WETEXT INFO found existing fst: /usr/local/lib/python3.10/dist-packages/tn/zh_tn_tagger.fst\n",
      "2024-11-14 06:22:53,476 WETEXT INFO                     /usr/local/lib/python3.10/dist-packages/tn/zh_tn_verbalizer.fst\n",
      "2024-11-14 06:22:53,476 WETEXT INFO skip building fst for zh_normalizer ...\n",
      "[+0000 20241114 06:22:53] [\u001b[37mINFO\u001b[0m]  WebUI  | webui | Models loaded successfully.\n",
      "* Running on local URL:  http://0.0.0.0:8080\n",
      "\n",
      "To create a public link, set `share=True` in `launch()`.\n"
     ]
    }
   ],
   "source": [
    "!python examples/web/webui.py"
   ]
  },
  {
   "cell_type": "markdown",
   "id": "947a474f-155f-4b14-aa06-0458611f5087",
   "metadata": {},
   "source": [
    "## 任意一个浏览器都可以访问这个网站，生成语音啦~\n",
    "\n",
    "```\n",
    "Running on public URL: https://52cd453a2696edb442.gradio.live\n",
    "```\n",
    "\n",
    "第一次生成时，需要几分钟初始化。\n"
   ]
  },
  {
   "cell_type": "markdown",
   "id": "e8b49605-c545-42bb-bc8f-65df31155acb",
   "metadata": {},
   "source": [
    "## 更多参考资料\n",
    "\n",
    "WebUI界面：https://github.com/2noise/ChatTTS/issues/278\n",
    "\n",
    "音色试听：https://github.com/kangyiwen/TTSlist"
   ]
  },
  {
   "cell_type": "code",
   "execution_count": null,
   "id": "fbe4e4ab-aa7d-470a-8a0c-45ca8edd69d6",
   "metadata": {},
   "outputs": [],
   "source": []
  }
 ],
 "metadata": {
  "kernelspec": {
   "display_name": "conda & pytorch(chattts)",
   "language": "python",
   "name": "ultralytics"
  },
  "language_info": {
   "codemirror_mode": {
    "name": "ipython",
    "version": 3
   },
   "file_extension": ".py",
   "mimetype": "text/x-python",
   "name": "python",
   "nbconvert_exporter": "python",
   "pygments_lexer": "ipython3",
   "version": "3.11.10"
  }
 },
 "nbformat": 4,
 "nbformat_minor": 5
}
