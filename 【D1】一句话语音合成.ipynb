{
 "cells": [
  {
   "cell_type": "markdown",
   "id": "1d32138e-da20-46e1-8ec1-cc34ece9f4eb",
   "metadata": {},
   "source": [
    "# 一句话语音合成\n",
    "\n",
    "sb 2024-6-11"
   ]
  },
  {
   "cell_type": "markdown",
   "id": "fcd89d8d-f86f-4dfa-8975-df3bea8e2751",
   "metadata": {},
   "source": [
    "## 导入工具包"
   ]
  },
  {
   "cell_type": "code",
   "execution_count": 1,
   "id": "a7a17fb8-5008-443e-9cb6-2cbfef97da5e",
   "metadata": {},
   "outputs": [
    {
     "ename": "ModuleNotFoundError",
     "evalue": "No module named 'torchaudio'",
     "output_type": "error",
     "traceback": [
      "\u001b[0;31m---------------------------------------------------------------------------\u001b[0m",
      "\u001b[0;31mModuleNotFoundError\u001b[0m                       Traceback (most recent call last)",
      "Cell \u001b[0;32mIn[1], line 1\u001b[0m\n\u001b[0;32m----> 1\u001b[0m \u001b[38;5;28;01mimport\u001b[39;00m \u001b[38;5;21;01mtorchaudio\u001b[39;00m\n\u001b[1;32m      2\u001b[0m \u001b[38;5;28;01mimport\u001b[39;00m \u001b[38;5;21;01mtorch\u001b[39;00m\n\u001b[1;32m      3\u001b[0m \u001b[38;5;28;01mfrom\u001b[39;00m \u001b[38;5;21;01mChatTTS\u001b[39;00m \u001b[38;5;28;01mimport\u001b[39;00m ChatTTS\n",
      "\u001b[0;31mModuleNotFoundError\u001b[0m: No module named 'torchaudio'"
     ]
    }
   ],
   "source": [
    "import torchaudio\n",
    "import torch\n",
    "from ChatTTS import ChatTTS\n",
    "import soundfile\n",
    "from IPython.display import Audio"
   ]
  },
  {
   "cell_type": "markdown",
   "id": "ccb32c01-390f-47d0-ad7e-d055174ff92e",
   "metadata": {},
   "source": [
    "## 载入预训练模型"
   ]
  },
  {
   "cell_type": "code",
   "execution_count": null,
   "id": "57789e89-eeb7-4f0d-84b3-feb886ecd769",
   "metadata": {},
   "outputs": [],
   "source": [
    "chat = ChatTTS.Chat()"
   ]
  },
  {
   "cell_type": "code",
   "execution_count": null,
   "id": "84ffa9f3-eee9-4347-8581-f06851462485",
   "metadata": {},
   "outputs": [],
   "source": [
    "# 加载默认下载的模型\n",
    "chat.load_models(compile=False) # 设置为Flase获得更快速度，设置为True获得更佳效果"
   ]
  },
  {
   "cell_type": "markdown",
   "id": "1f7e851f-d80a-4030-a3f3-ef3368d04de0",
   "metadata": {},
   "source": [
    "## 输入需语音合成的文字"
   ]
  },
  {
   "cell_type": "code",
   "execution_count": null,
   "id": "b17c1693-357e-4181-b59b-0b2163497fb3",
   "metadata": {},
   "outputs": [],
   "source": [
    "texts = ['我今天真的Feel Good，跑通了语音合成的开源项目，真的特别感谢SB的代码教程！']"
   ]
  },
  {
   "cell_type": "markdown",
   "id": "46846890-c930-457a-9a12-e2205fc00aa4",
   "metadata": {},
   "source": [
    "## 语音合成模型推理"
   ]
  },
  {
   "cell_type": "code",
   "execution_count": null,
   "id": "e1806cd3-655e-4b2d-a427-84cf3fd0082e",
   "metadata": {},
   "outputs": [],
   "source": [
    "wavs = chat.infer(texts)"
   ]
  },
  {
   "cell_type": "markdown",
   "id": "db868c30-6f06-4ae7-af68-02f9459574f2",
   "metadata": {},
   "source": [
    "## 试听"
   ]
  },
  {
   "cell_type": "code",
   "execution_count": null,
   "id": "742ad8e0-e13a-419b-bc59-6338b2969885",
   "metadata": {},
   "outputs": [],
   "source": [
    "Audio(wavs[0], rate=24000)"
   ]
  },
  {
   "cell_type": "markdown",
   "id": "698e0c7d-a6a3-471d-98b9-a3a3e2b573b2",
   "metadata": {},
   "source": [
    "## 导出保存为音频文件"
   ]
  },
  {
   "cell_type": "code",
   "execution_count": null,
   "id": "e021ce43-bac3-4ff4-a695-17897b066ee0",
   "metadata": {},
   "outputs": [],
   "source": [
    "torchaudio.save(\"output/output_d1.wav\", torch.from_numpy(wavs[0]), 24000)"
   ]
  },
  {
   "cell_type": "code",
   "execution_count": null,
   "id": "68def80d-aaba-48c3-bb0d-6917ba88a5c7",
   "metadata": {},
   "outputs": [],
   "source": []
  }
 ],
 "metadata": {
  "kernelspec": {
   "display_name": "conda & pytorch(chattts)",
   "language": "python",
   "name": "ultralytics"
  },
  "language_info": {
   "codemirror_mode": {
    "name": "ipython",
    "version": 3
   },
   "file_extension": ".py",
   "mimetype": "text/x-python",
   "name": "python",
   "nbconvert_exporter": "python",
   "pygments_lexer": "ipython3",
   "version": "3.11.10"
  }
 },
 "nbformat": 4,
 "nbformat_minor": 5
}
